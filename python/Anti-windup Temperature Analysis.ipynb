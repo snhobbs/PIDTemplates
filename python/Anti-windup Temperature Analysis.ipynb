{
 "cells": [
  {
   "cell_type": "code",
   "execution_count": null,
   "metadata": {},
   "outputs": [],
   "source": [
    "%matplotlib inline\n",
    "from IPython.core.interactiveshell import InteractiveShell\n",
    "InteractiveShell.ast_node_interactivity = \"all\"\n",
    "\n",
    "from IPython import get_ipython\n",
    "ipython = get_ipython()\n",
    "ipython.run_line_magic('config', \"InlineBackend.figure_formats = {'png', 'pdf'}\")"
   ]
  },
  {
   "cell_type": "markdown",
   "metadata": {},
   "source": [
    "# Control Of Idealized Delay+Integrator Plant\n",
    "This model responds as a delay+integrator at a fixed update rate."
   ]
  },
  {
   "cell_type": "code",
   "execution_count": null,
   "metadata": {},
   "outputs": [],
   "source": [
    "from PIFilter import IIR_PI_Filter, calculate_pi_coefficients\n",
    "from delay_integrator_model import DelayIntegratorPlantModel\n",
    "from matplotlib import pyplot as plt"
   ]
  },
  {
   "cell_type": "code",
   "execution_count": null,
   "metadata": {},
   "outputs": [],
   "source": [
    "p = DelayIntegratorPlantModel(delay=1, gain=1, rate=1000, ambient=293, temperature=293, heat_leak=1)\n",
    "p.reset()"
   ]
  },
  {
   "cell_type": "markdown",
   "metadata": {},
   "source": [
    "## Plant+ Heat Leak\n",
    "The plant model includes a heat leak which is the same units as the gain. A heat leak equal to the control setting will result in a constant temperature.\n",
    "\n",
    "Show the plant cooling to the ambient temperature."
   ]
  },
  {
   "cell_type": "code",
   "execution_count": null,
   "metadata": {},
   "outputs": [],
   "source": [
    "p.reset()\n",
    "p.temperature = 400\n",
    "d = []\n",
    "for _ in range(10*p.delay*p.rate):\n",
    "    d.append(p.update(0))\n",
    "\n",
    "fig, ax = plt.subplots()\n",
    "ax.plot(d)\n",
    "ax.set_title(\"Ambient Cooling of Object Due To Heat Leak\")\n",
    "ax.set_xlabel(\"Sample Number\")\n",
    "ax.set_ylabel(\"Temperature (k)\")\n",
    "plt.show()"
   ]
  },
  {
   "cell_type": "markdown",
   "metadata": {},
   "source": [
    "## Constant Set Point\n",
    "Show the plant reaching a constant temperature with different control settings. The difference will be in the temperature difference the plant rests at."
   ]
  },
  {
   "cell_type": "code",
   "execution_count": null,
   "metadata": {},
   "outputs": [],
   "source": [
    "fig, ax = plt.subplots()\n",
    "\n",
    "for set_point in range(5):\n",
    "    d = []\n",
    "    p.reset()\n",
    "    p.temperature = p.ambient\n",
    "    for _ in range(10*p.delay*p.rate):\n",
    "        d.append(p.update(set_point))\n",
    "    \n",
    "    ax.plot(d, label=\"Set Point = %d\"%set_point)\n",
    "ax.set_title(\"Plant With Constant Control Input, Heating From Ambient With Heat Leak\")\n",
    "ax.set_xlabel(\"Sample Number\")\n",
    "ax.set_ylabel(\"Temperature (k)\")\n",
    "plt.legend()\n",
    "plt.show()"
   ]
  },
  {
   "cell_type": "markdown",
   "metadata": {},
   "source": [
    "## Idealized PI Filter\n",
    "Introduce an idealized filter with no output limits. Remove the heat leak to get the ideal response. To start use the SMIC tuning algorithm (https://folk.ntnu.no/skoge/publications/2012/skogestad-improved-simc-pid/old-submitted/simcpid.pdf)."
   ]
  },
  {
   "cell_type": "code",
   "execution_count": null,
   "metadata": {},
   "outputs": [],
   "source": [
    "set_point = 300\n",
    "p = DelayIntegratorPlantModel(delay=1, gain=1, rate=1000, ambient=293, heat_leak=0)\n",
    "kp, ki = calculate_pi_coefficients(p.delay, p.gain, update_frequency=p.rate)\n",
    "ki = ki *p.rate\n",
    "f = IIR_PI_Filter(kp=kp, ki=ki, sample_time=1/p.rate, set_point=set_point)\n",
    "\n",
    "\n",
    "temp = []\n",
    "integral = []\n",
    "command = []\n",
    "\n",
    "p.reset()\n",
    "p.temperature = p.ambient\n",
    "for _ in range(50*p.delay*p.rate):\n",
    "    control = f.update(p.temperature)\n",
    "    command.append(control)\n",
    "    integral.append(f.integral)\n",
    "    temp.append(p.update(control))\n",
    "\n",
    "fig, ax = plt.subplots()\n",
    "ax.plot(temp, label=\"Temperature\")\n",
    "ax.plot([0, len(temp)], [set_point]*2, label=\"Set Point\")\n",
    "ax.set_xlabel(\"Sample Number\")\n",
    "ax.set_ylabel(\"Temperature (k)\")\n",
    "plt.legend()\n",
    "plt.show()\n",
    "\n",
    "fig, ax = plt.subplots()\n",
    "ax.plot(integral[2:], label=\"Integral\")\n",
    "ax.set_xlabel(\"Sample Number\")\n",
    "ax.set_ylabel(\"Integral Value\")\n",
    "plt.legend()\n",
    "plt.show()\n",
    "\n",
    "fig, ax = plt.subplots()\n",
    "ax.plot(command, label=\"Control\")\n",
    "ax.set_xlabel(\"Sample Number\")\n",
    "ax.set_ylabel(\"Control Setting\")\n",
    "plt.legend()\n",
    "plt.show()"
   ]
  },
  {
   "cell_type": "markdown",
   "metadata": {},
   "source": [
    "## Limited Output\n",
    "The controller usually does not have unlimited current output so we need to introduce limits.\n",
    "The basic implimentation just caps the output at the limit. This will cause windup of the integrator which is shown."
   ]
  },
  {
   "cell_type": "markdown",
   "metadata": {},
   "source": [
    "## Integrator Windup\n",
    "With the limited output the integrator windsup and causes bad behaviour."
   ]
  },
  {
   "cell_type": "code",
   "execution_count": null,
   "metadata": {},
   "outputs": [],
   "source": [
    "set_point = 300\n",
    "f = IIR_PI_Filter(kp=kp, ki=ki, sample_time=1/p.rate, set_point=set_point, ilim=0.1, antiwindup=True)\n",
    "\n",
    "temp = []\n",
    "integral = []\n",
    "command = []\n",
    "\n",
    "p.reset()\n",
    "p.temperature = p.ambient\n",
    "for _ in range(500*p.delay*p.rate):\n",
    "    control = f.update(p.temperature)\n",
    "    command.append(control)\n",
    "    integral.append(f.integral)\n",
    "    temp.append(p.update(control))\n",
    "\n",
    "fig, ax = plt.subplots()\n",
    "ax.plot(temp, label=\"Temperature\")\n",
    "ax.plot([0, len(temp)], [set_point]*2, label=\"Set Point\")\n",
    "ax.set_xlabel(\"Sample Number\")\n",
    "ax.set_ylabel(\"Temperature (k)\")\n",
    "plt.legend()\n",
    "plt.show()\n",
    "\n",
    "fig, ax = plt.subplots()\n",
    "ax.plot(integral, label=\"Integral\")\n",
    "ax.set_xlabel(\"Sample Number\")\n",
    "ax.set_ylabel(\"Integral Value\")\n",
    "plt.legend()\n",
    "plt.show()\n",
    "\n",
    "fig, ax = plt.subplots()\n",
    "ax.plot(command, label=\"Control\")\n",
    "ax.set_xlabel(\"Sample Number\")\n",
    "ax.set_ylabel(\"Control Setting\")\n",
    "plt.legend()\n",
    "plt.show()"
   ]
  },
  {
   "cell_type": "markdown",
   "metadata": {},
   "source": [
    "## Anti-windup Controller\n",
    "To prevent windup there are several methods that can be used of increasing complexity. The simpliest is freezing the integrator value at the point the control setting is beyond the controllers capability."
   ]
  },
  {
   "cell_type": "markdown",
   "metadata": {},
   "source": [
    "Freezing the integrator leads to less overshoot than the normal state and none of the ringing occurs."
   ]
  },
  {
   "cell_type": "code",
   "execution_count": null,
   "metadata": {},
   "outputs": [],
   "source": [
    "set_point = 300\n",
    "f = IIR_PI_Filter(kp=kp, ki=ki, sample_time=1/p.rate, set_point=set_point, ilim=0.1, antiwindup=True)\n",
    "\n",
    "temp = []\n",
    "integral = []\n",
    "command = []\n",
    "\n",
    "p.reset()\n",
    "p.temperature = p.ambient\n",
    "for _ in range(200*p.delay*p.rate):\n",
    "    control = f.update(p.temperature)\n",
    "    command.append(control)\n",
    "    integral.append(f.integral)\n",
    "    temp.append(p.update(control))\n",
    "\n",
    "fig, ax = plt.subplots()\n",
    "ax.plot(temp, label=\"Temperature\")\n",
    "ax.set_title(\"Temperature\")\n",
    "ax.plot([0, len(temp)], [set_point]*2, label=\"Set Point\")\n",
    "ax.set_xlabel(\"Sample Number\")\n",
    "ax.set_ylabel(\"Temperature (k)\")\n",
    "plt.legend()\n",
    "plt.show()\n",
    "\n",
    "fig, ax = plt.subplots()\n",
    "ax.plot(integral, label=\"Integral\")\n",
    "ax.set_title(\"Integral\")\n",
    "ax.set_xlabel(\"Sample Number\")\n",
    "ax.set_ylabel(\"Integral Value\")\n",
    "plt.legend()\n",
    "plt.show()\n",
    "\n",
    "fig, ax = plt.subplots()\n",
    "ax.plot(command, label=\"Control\")\n",
    "ax.set_title(\"Control Setting\")\n",
    "ax.set_xlabel(\"Sample Number\")\n",
    "ax.set_ylabel(\"Control Setting\")\n",
    "plt.legend()\n",
    "plt.show()"
   ]
  },
  {
   "cell_type": "code",
   "execution_count": null,
   "metadata": {},
   "outputs": [],
   "source": []
  }
 ],
 "metadata": {
  "kernelspec": {
   "display_name": "Python 3 (ipykernel)",
   "language": "python",
   "name": "python3"
  },
  "language_info": {
   "codemirror_mode": {
    "name": "ipython",
    "version": 3
   },
   "file_extension": ".py",
   "mimetype": "text/x-python",
   "name": "python",
   "nbconvert_exporter": "python",
   "pygments_lexer": "ipython3",
   "version": "3.12.2"
  },
  "latex_envs": {
   "LaTeX_envs_menu_present": true,
   "autoclose": false,
   "autocomplete": true,
   "bibliofile": "biblio.bib",
   "cite_by": "apalike",
   "current_citInitial": 1,
   "eqLabelWithNumbers": true,
   "eqNumInitial": 1,
   "hotkeys": {
    "equation": "Ctrl-E",
    "itemize": "Ctrl-I"
   },
   "labels_anchors": false,
   "latex_user_defs": false,
   "report_style_numbering": false,
   "user_envs_cfg": false
  },
  "varInspector": {
   "cols": {
    "lenName": 16,
    "lenType": 16,
    "lenVar": 40
   },
   "kernels_config": {
    "python": {
     "delete_cmd_postfix": "",
     "delete_cmd_prefix": "del ",
     "library": "var_list.py",
     "varRefreshCmd": "print(var_dic_list())"
    },
    "r": {
     "delete_cmd_postfix": ") ",
     "delete_cmd_prefix": "rm(",
     "library": "var_list.r",
     "varRefreshCmd": "cat(var_dic_list()) "
    }
   },
   "types_to_exclude": [
    "module",
    "function",
    "builtin_function_or_method",
    "instance",
    "_Feature"
   ],
   "window_display": false
  }
 },
 "nbformat": 4,
 "nbformat_minor": 4
}
